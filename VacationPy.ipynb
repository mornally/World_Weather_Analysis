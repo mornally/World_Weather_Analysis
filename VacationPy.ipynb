{
 "cells": [
  {
   "cell_type": "code",
   "execution_count": 3,
   "id": "9059744b-73ab-4b57-9561-998dce60e25e",
   "metadata": {},
   "outputs": [],
   "source": [
    "import hvplot.pandas\n",
    "import pandas as pd"
   ]
  },
  {
   "cell_type": "code",
   "execution_count": 9,
   "id": "a87eb5cd-3265-476c-a285-e6057857b76c",
   "metadata": {},
   "outputs": [],
   "source": [
    "import warnings\n",
    "warnings.filterwarnings(\"ignore\")"
   ]
  },
  {
   "cell_type": "code",
   "execution_count": 10,
   "id": "d72cb376-be9b-48c4-9e36-c2a3505c579d",
   "metadata": {},
   "outputs": [
    {
     "data": {
      "text/html": [
       "<div>\n",
       "<style scoped>\n",
       "    .dataframe tbody tr th:only-of-type {\n",
       "        vertical-align: middle;\n",
       "    }\n",
       "\n",
       "    .dataframe tbody tr th {\n",
       "        vertical-align: top;\n",
       "    }\n",
       "\n",
       "    .dataframe thead th {\n",
       "        text-align: right;\n",
       "    }\n",
       "</style>\n",
       "<table border=\"1\" class=\"dataframe\">\n",
       "  <thead>\n",
       "    <tr style=\"text-align: right;\">\n",
       "      <th></th>\n",
       "      <th>City_ID</th>\n",
       "      <th>City</th>\n",
       "      <th>Country</th>\n",
       "      <th>Date</th>\n",
       "      <th>Lat</th>\n",
       "      <th>Lng</th>\n",
       "      <th>Max Temp</th>\n",
       "      <th>Humidity</th>\n",
       "      <th>Cloudiness</th>\n",
       "      <th>Wind Speed</th>\n",
       "    </tr>\n",
       "  </thead>\n",
       "  <tbody>\n",
       "    <tr>\n",
       "      <th>0</th>\n",
       "      <td>0</td>\n",
       "      <td>Avarua</td>\n",
       "      <td>CK</td>\n",
       "      <td>2022-12-21 20:39:59</td>\n",
       "      <td>-21.2078</td>\n",
       "      <td>-159.7750</td>\n",
       "      <td>82.45</td>\n",
       "      <td>89</td>\n",
       "      <td>20</td>\n",
       "      <td>14.97</td>\n",
       "    </tr>\n",
       "    <tr>\n",
       "      <th>1</th>\n",
       "      <td>1</td>\n",
       "      <td>Vardo</td>\n",
       "      <td>NO</td>\n",
       "      <td>2022-12-21 20:39:59</td>\n",
       "      <td>70.3705</td>\n",
       "      <td>31.1107</td>\n",
       "      <td>26.58</td>\n",
       "      <td>93</td>\n",
       "      <td>100</td>\n",
       "      <td>14.97</td>\n",
       "    </tr>\n",
       "    <tr>\n",
       "      <th>2</th>\n",
       "      <td>2</td>\n",
       "      <td>Alice Springs</td>\n",
       "      <td>AU</td>\n",
       "      <td>2022-12-21 20:35:22</td>\n",
       "      <td>-23.7000</td>\n",
       "      <td>133.8833</td>\n",
       "      <td>76.55</td>\n",
       "      <td>57</td>\n",
       "      <td>100</td>\n",
       "      <td>10.36</td>\n",
       "    </tr>\n",
       "    <tr>\n",
       "      <th>3</th>\n",
       "      <td>3</td>\n",
       "      <td>Urumqi</td>\n",
       "      <td>CN</td>\n",
       "      <td>2022-12-21 20:36:01</td>\n",
       "      <td>43.8010</td>\n",
       "      <td>87.6005</td>\n",
       "      <td>0.55</td>\n",
       "      <td>85</td>\n",
       "      <td>11</td>\n",
       "      <td>4.47</td>\n",
       "    </tr>\n",
       "    <tr>\n",
       "      <th>4</th>\n",
       "      <td>4</td>\n",
       "      <td>Pochutla</td>\n",
       "      <td>MX</td>\n",
       "      <td>2022-12-21 20:40:00</td>\n",
       "      <td>15.7432</td>\n",
       "      <td>-96.4661</td>\n",
       "      <td>84.81</td>\n",
       "      <td>51</td>\n",
       "      <td>0</td>\n",
       "      <td>7.27</td>\n",
       "    </tr>\n",
       "  </tbody>\n",
       "</table>\n",
       "</div>"
      ],
      "text/plain": [
       "   City_ID           City Country                 Date      Lat       Lng  \\\n",
       "0        0         Avarua      CK  2022-12-21 20:39:59 -21.2078 -159.7750   \n",
       "1        1          Vardo      NO  2022-12-21 20:39:59  70.3705   31.1107   \n",
       "2        2  Alice Springs      AU  2022-12-21 20:35:22 -23.7000  133.8833   \n",
       "3        3         Urumqi      CN  2022-12-21 20:36:01  43.8010   87.6005   \n",
       "4        4       Pochutla      MX  2022-12-21 20:40:00  15.7432  -96.4661   \n",
       "\n",
       "   Max Temp  Humidity  Cloudiness  Wind Speed  \n",
       "0     82.45        89          20       14.97  \n",
       "1     26.58        93         100       14.97  \n",
       "2     76.55        57         100       10.36  \n",
       "3      0.55        85          11        4.47  \n",
       "4     84.81        51           0        7.27  "
      ]
     },
     "execution_count": 10,
     "metadata": {},
     "output_type": "execute_result"
    }
   ],
   "source": [
    "city_data_df = pd.read_csv(\"weather_data/cities.csv\")\n",
    "city_data_df.head()"
   ]
  },
  {
   "cell_type": "code",
   "execution_count": 11,
   "id": "c998253f-a417-4a5d-93f9-c5eb08f6bcae",
   "metadata": {},
   "outputs": [
    {
     "data": {
      "text/plain": [
       "City_ID         int64\n",
       "City           object\n",
       "Country        object\n",
       "Date           object\n",
       "Lat           float64\n",
       "Lng           float64\n",
       "Max Temp      float64\n",
       "Humidity        int64\n",
       "Cloudiness      int64\n",
       "Wind Speed    float64\n",
       "dtype: object"
      ]
     },
     "execution_count": 11,
     "metadata": {},
     "output_type": "execute_result"
    }
   ],
   "source": [
    "city_data_df.dtypes"
   ]
  },
  {
   "cell_type": "code",
   "execution_count": 13,
   "id": "bda27055-09a6-429f-a1e1-b5f0c5591bf3",
   "metadata": {},
   "outputs": [
    {
     "data": {},
     "metadata": {},
     "output_type": "display_data"
    },
    {
     "data": {
      "application/vnd.holoviews_exec.v0+json": "",
      "text/html": [
       "<div id='1244'>\n",
       "  <div class=\"bk-root\" id=\"dacf6ad0-7297-4fd4-a00f-d912093a6828\" data-root-id=\"1244\"></div>\n",
       "</div>\n",
       "<script type=\"application/javascript\">(function(root) {\n",
       "  function embed_document(root) {\n",
       "    var docs_json = {\"ba33a691-0bda-42a9-b629-adac3150dfd8\":{\"defs\":[{\"extends\":null,\"module\":null,\"name\":\"ReactiveHTML1\",\"overrides\":[],\"properties\":[]},{\"extends\":null,\"module\":null,\"name\":\"FlexBox1\",\"overrides\":[],\"properties\":[{\"default\":\"flex-start\",\"kind\":null,\"name\":\"align_content\"},{\"default\":\"flex-start\",\"kind\":null,\"name\":\"align_items\"},{\"default\":\"row\",\"kind\":null,\"name\":\"flex_direction\"},{\"default\":\"wrap\",\"kind\":null,\"name\":\"flex_wrap\"},{\"default\":\"flex-start\",\"kind\":null,\"name\":\"justify_content\"}]},{\"extends\":null,\"module\":null,\"name\":\"GridStack1\",\"overrides\":[],\"properties\":[{\"default\":\"warn\",\"kind\":null,\"name\":\"mode\"},{\"default\":null,\"kind\":null,\"name\":\"ncols\"},{\"default\":null,\"kind\":null,\"name\":\"nrows\"},{\"default\":true,\"kind\":null,\"name\":\"allow_resize\"},{\"default\":true,\"kind\":null,\"name\":\"allow_drag\"},{\"default\":[],\"kind\":null,\"name\":\"state\"}]},{\"extends\":null,\"module\":null,\"name\":\"click1\",\"overrides\":[],\"properties\":[{\"default\":\"\",\"kind\":null,\"name\":\"terminal_output\"},{\"default\":\"\",\"kind\":null,\"name\":\"debug_name\"},{\"default\":0,\"kind\":null,\"name\":\"clears\"}]},{\"extends\":null,\"module\":null,\"name\":\"NotificationAreaBase1\",\"overrides\":[],\"properties\":[{\"default\":\"bottom-right\",\"kind\":null,\"name\":\"position\"},{\"default\":0,\"kind\":null,\"name\":\"_clear\"}]},{\"extends\":null,\"module\":null,\"name\":\"NotificationArea1\",\"overrides\":[],\"properties\":[{\"default\":[],\"kind\":null,\"name\":\"notifications\"},{\"default\":\"bottom-right\",\"kind\":null,\"name\":\"position\"},{\"default\":0,\"kind\":null,\"name\":\"_clear\"},{\"default\":[{\"background\":\"#ffc107\",\"icon\":{\"className\":\"fas fa-exclamation-triangle\",\"color\":\"white\",\"tagName\":\"i\"},\"type\":\"warning\"},{\"background\":\"#007bff\",\"icon\":{\"className\":\"fas fa-info-circle\",\"color\":\"white\",\"tagName\":\"i\"},\"type\":\"info\"}],\"kind\":null,\"name\":\"types\"}]},{\"extends\":null,\"module\":null,\"name\":\"Notification\",\"overrides\":[],\"properties\":[{\"default\":null,\"kind\":null,\"name\":\"background\"},{\"default\":3000,\"kind\":null,\"name\":\"duration\"},{\"default\":null,\"kind\":null,\"name\":\"icon\"},{\"default\":\"\",\"kind\":null,\"name\":\"message\"},{\"default\":null,\"kind\":null,\"name\":\"notification_type\"},{\"default\":false,\"kind\":null,\"name\":\"_destroyed\"}]},{\"extends\":null,\"module\":null,\"name\":\"TemplateActions1\",\"overrides\":[],\"properties\":[{\"default\":0,\"kind\":null,\"name\":\"open_modal\"},{\"default\":0,\"kind\":null,\"name\":\"close_modal\"}]},{\"extends\":null,\"module\":null,\"name\":\"MaterialTemplateActions1\",\"overrides\":[],\"properties\":[{\"default\":0,\"kind\":null,\"name\":\"open_modal\"},{\"default\":0,\"kind\":null,\"name\":\"close_modal\"}]}],\"roots\":{\"references\":[{\"attributes\":{\"coordinates\":null,\"group\":null,\"level\":\"glyph\",\"tile_source\":{\"id\":\"1315\"}},\"id\":\"1318\",\"type\":\"TileRenderer\"},{\"attributes\":{\"axis_label\":\"x\",\"coordinates\":null,\"formatter\":{\"id\":\"1290\"},\"group\":null,\"major_label_policy\":{\"id\":\"1295\"},\"ticker\":{\"id\":\"1289\"}},\"id\":\"1266\",\"type\":\"LinearAxis\"},{\"attributes\":{},\"id\":\"1264\",\"type\":\"LinearScale\"},{\"attributes\":{\"coordinates\":null,\"data_source\":{\"id\":\"1320\"},\"glyph\":{\"id\":\"1323\"},\"group\":null,\"hover_glyph\":null,\"muted_glyph\":{\"id\":\"1325\"},\"nonselection_glyph\":{\"id\":\"1324\"},\"selection_glyph\":{\"id\":\"1330\"},\"view\":{\"id\":\"1327\"}},\"id\":\"1326\",\"type\":\"GlyphRenderer\"},{\"attributes\":{},\"id\":\"1321\",\"type\":\"Selection\"},{\"attributes\":{\"source\":{\"id\":\"1320\"}},\"id\":\"1327\",\"type\":\"CDSView\"},{\"attributes\":{},\"id\":\"1262\",\"type\":\"LinearScale\"},{\"attributes\":{\"fill_alpha\":{\"value\":0.1},\"fill_color\":{\"value\":\"#30a2da\"},\"hatch_alpha\":{\"value\":0.1},\"hatch_color\":{\"value\":\"#30a2da\"},\"line_alpha\":{\"value\":0.1},\"line_color\":{\"value\":\"#30a2da\"},\"size\":{\"value\":5.477225575051661},\"x\":{\"field\":\"Lng\"},\"y\":{\"field\":\"Lat\"}},\"id\":\"1324\",\"type\":\"Scatter\"},{\"attributes\":{\"coordinates\":null,\"group\":null,\"text_color\":\"black\",\"text_font_size\":\"12pt\"},\"id\":\"1258\",\"type\":\"Title\"},{\"attributes\":{\"dimension\":\"lat\"},\"id\":\"1292\",\"type\":\"MercatorTickFormatter\"},{\"attributes\":{},\"id\":\"1275\",\"type\":\"PanTool\"},{\"attributes\":{\"dimension\":\"lon\"},\"id\":\"1290\",\"type\":\"MercatorTickFormatter\"},{\"attributes\":{\"fill_color\":{\"value\":\"#30a2da\"},\"hatch_color\":{\"value\":\"#30a2da\"},\"line_color\":{\"value\":\"#30a2da\"},\"size\":{\"value\":5.477225575051661},\"x\":{\"field\":\"Lng\"},\"y\":{\"field\":\"Lat\"}},\"id\":\"1323\",\"type\":\"Scatter\"},{\"attributes\":{\"children\":[{\"id\":\"1245\"},{\"id\":\"1257\"},{\"id\":\"1337\"}],\"margin\":[0,0,0,0],\"name\":\"Row01743\",\"tags\":[\"embedded\"]},\"id\":\"1244\",\"type\":\"Row\"},{\"attributes\":{\"axis_label\":\"y\",\"coordinates\":null,\"formatter\":{\"id\":\"1292\"},\"group\":null,\"major_label_policy\":{\"id\":\"1302\"},\"ticker\":{\"id\":\"1291\"}},\"id\":\"1270\",\"type\":\"LinearAxis\"},{\"attributes\":{\"code\":\"\\n        var projections = Bokeh.require(\\\"core/util/projections\\\");\\n        var x = special_vars.data_x\\n        var y = special_vars.data_y\\n        if (projections.wgs84_mercator.invert == null) {\\n          var coords = projections.wgs84_mercator.inverse([x, y])\\n        } else {\\n          var coords = projections.wgs84_mercator.invert(x, y)\\n        }\\n        return \\\"\\\" + (coords[0]).toFixed(4)\\n    \"},\"id\":\"1328\",\"type\":\"CustomJSHover\"},{\"attributes\":{\"axis\":{\"id\":\"1270\"},\"coordinates\":null,\"dimension\":1,\"grid_line_color\":null,\"group\":null,\"ticker\":null},\"id\":\"1273\",\"type\":\"Grid\"},{\"attributes\":{\"code\":\"\\n        var projections = Bokeh.require(\\\"core/util/projections\\\");\\n        var x = special_vars.data_x\\n        var y = special_vars.data_y\\n        if (projections.wgs84_mercator.invert == null) {\\n          var coords = projections.wgs84_mercator.inverse([x, y])\\n        } else {\\n          var coords = projections.wgs84_mercator.invert(x, y)\\n        }\\n        return \\\"\\\" + (coords[1]).toFixed(4)\\n    \"},\"id\":\"1329\",\"type\":\"CustomJSHover\"},{\"attributes\":{\"dimension\":\"lat\"},\"id\":\"1291\",\"type\":\"MercatorTicker\"},{\"attributes\":{\"zoom_on_axis\":false},\"id\":\"1276\",\"type\":\"WheelZoomTool\"},{\"attributes\":{\"fill_alpha\":{\"value\":0.2},\"fill_color\":{\"value\":\"#30a2da\"},\"hatch_alpha\":{\"value\":0.2},\"hatch_color\":{\"value\":\"#30a2da\"},\"line_alpha\":{\"value\":0.2},\"line_color\":{\"value\":\"#30a2da\"},\"size\":{\"value\":5.477225575051661},\"x\":{\"field\":\"Lng\"},\"y\":{\"field\":\"Lat\"}},\"id\":\"1325\",\"type\":\"Scatter\"},{\"attributes\":{},\"id\":\"1274\",\"type\":\"SaveTool\"},{\"attributes\":{},\"id\":\"1295\",\"type\":\"AllLabels\"},{\"attributes\":{\"angle\":{\"value\":0.0},\"fill_alpha\":{\"value\":1.0},\"fill_color\":{\"value\":\"#30a2da\"},\"hatch_alpha\":{\"value\":1.0},\"hatch_color\":{\"value\":\"#30a2da\"},\"hatch_scale\":{\"value\":12.0},\"hatch_weight\":{\"value\":1.0},\"line_alpha\":{\"value\":1.0},\"line_cap\":{\"value\":\"butt\"},\"line_color\":{\"value\":\"#30a2da\"},\"line_dash\":{\"value\":[]},\"line_dash_offset\":{\"value\":0},\"line_join\":{\"value\":\"bevel\"},\"line_width\":{\"value\":1},\"marker\":{\"value\":\"circle\"},\"size\":{\"value\":5.477225575051661},\"x\":{\"field\":\"Lng\"},\"y\":{\"field\":\"Lat\"}},\"id\":\"1330\",\"type\":\"Scatter\"},{\"attributes\":{},\"id\":\"1302\",\"type\":\"AllLabels\"},{\"attributes\":{\"match_aspect\":true,\"overlay\":{\"id\":\"1279\"}},\"id\":\"1277\",\"type\":\"BoxZoomTool\"},{\"attributes\":{},\"id\":\"1278\",\"type\":\"ResetTool\"},{\"attributes\":{\"bottom_units\":\"screen\",\"coordinates\":null,\"fill_alpha\":0.5,\"fill_color\":\"lightgrey\",\"group\":null,\"left_units\":\"screen\",\"level\":\"overlay\",\"line_alpha\":1.0,\"line_color\":\"black\",\"line_dash\":[4,4],\"line_width\":2,\"right_units\":\"screen\",\"syncable\":false,\"top_units\":\"screen\"},\"id\":\"1279\",\"type\":\"BoxAnnotation\"},{\"attributes\":{\"margin\":[5,5,5,5],\"name\":\"HSpacer01747\",\"sizing_mode\":\"stretch_width\"},\"id\":\"1245\",\"type\":\"Spacer\"},{\"attributes\":{\"tools\":[{\"id\":\"1254\"},{\"id\":\"1274\"},{\"id\":\"1275\"},{\"id\":\"1276\"},{\"id\":\"1277\"},{\"id\":\"1278\"}]},\"id\":\"1280\",\"type\":\"Toolbar\"},{\"attributes\":{\"dimension\":\"lon\"},\"id\":\"1289\",\"type\":\"MercatorTicker\"},{\"attributes\":{},\"id\":\"1334\",\"type\":\"UnionRenderers\"},{\"attributes\":{\"data\":{\"Lat\":{\"__ndarray__\":\"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\",\"dtype\":\"float64\",\"order\":\"little\",\"shape\":[567]},\"Lng\":{\"__ndarray__\":\"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\",\"dtype\":\"float64\",\"order\":\"little\",\"shape\":[567]}},\"selected\":{\"id\":\"1321\"},\"selection_policy\":{\"id\":\"1334\"}},\"id\":\"1320\",\"type\":\"ColumnDataSource\"},{\"attributes\":{\"end\":23952062.555730946,\"min_interval\":5,\"reset_end\":23952062.555730946,\"reset_start\":-23935364.63211196,\"start\":-23935364.63211196,\"tags\":[[[\"Lng\",\"Lng\",null]]]},\"id\":\"1250\",\"type\":\"Range1d\"},{\"attributes\":{\"end\":15678768.14167579,\"min_interval\":5,\"reset_end\":15678768.14167579,\"reset_start\":-8515125.102480438,\"start\":-8515125.102480438,\"tags\":[[[\"Lat\",\"Lat\",null]]]},\"id\":\"1251\",\"type\":\"Range1d\"},{\"attributes\":{\"below\":[{\"id\":\"1266\"}],\"center\":[{\"id\":\"1269\"},{\"id\":\"1273\"}],\"frame_height\":300,\"frame_width\":593,\"height\":null,\"left\":[{\"id\":\"1270\"}],\"margin\":[5,5,5,5],\"match_aspect\":true,\"min_border_bottom\":10,\"min_border_left\":10,\"min_border_right\":10,\"min_border_top\":10,\"renderers\":[{\"id\":\"1318\"},{\"id\":\"1326\"}],\"sizing_mode\":\"fixed\",\"title\":{\"id\":\"1258\"},\"toolbar\":{\"id\":\"1280\"},\"width\":null,\"x_range\":{\"id\":\"1250\"},\"x_scale\":{\"id\":\"1262\"},\"y_range\":{\"id\":\"1251\"},\"y_scale\":{\"id\":\"1264\"}},\"id\":\"1257\",\"subtype\":\"Figure\",\"type\":\"Plot\"},{\"attributes\":{\"margin\":[5,5,5,5],\"name\":\"HSpacer01748\",\"sizing_mode\":\"stretch_width\"},\"id\":\"1337\",\"type\":\"Spacer\"},{\"attributes\":{\"axis\":{\"id\":\"1266\"},\"coordinates\":null,\"grid_line_color\":null,\"group\":null,\"ticker\":null},\"id\":\"1269\",\"type\":\"Grid\"},{\"attributes\":{\"attribution\":\"&copy; <a href=\\\"https://www.openstreetmap.org/copyright\\\">OpenStreetMap</a> contributors\",\"url\":\"https://c.tile.openstreetmap.org/{Z}/{X}/{Y}.png\"},\"id\":\"1315\",\"type\":\"WMTSTileSource\"},{\"attributes\":{\"callback\":null,\"formatters\":{\"$x\":{\"id\":\"1328\"},\"$y\":{\"id\":\"1329\"}},\"renderers\":[{\"id\":\"1326\"}],\"tags\":[\"hv_created\"],\"tooltips\":[[\"Lng\",\"$x{custom}\"],[\"Lat\",\"$y{custom}\"]]},\"id\":\"1254\",\"type\":\"HoverTool\"}],\"root_ids\":[\"1244\"]},\"title\":\"Bokeh Application\",\"version\":\"2.4.3\"}};\n",
       "    var render_items = [{\"docid\":\"ba33a691-0bda-42a9-b629-adac3150dfd8\",\"root_ids\":[\"1244\"],\"roots\":{\"1244\":\"dacf6ad0-7297-4fd4-a00f-d912093a6828\"}}];\n",
       "    root.Bokeh.embed.embed_items_notebook(docs_json, render_items);\n",
       "    for (const render_item of render_items) {\n",
       "      for (const root_id of render_item.root_ids) {\n",
       "\tconst id_el = document.getElementById(root_id)\n",
       "\tif (id_el.children.length && (id_el.children[0].className === 'bk-root')) {\n",
       "\t  const root_el = id_el.children[0]\n",
       "\t  root_el.id = root_el.id + '-rendered'\n",
       "\t}\n",
       "      }\n",
       "    }\n",
       "  }\n",
       "  if (root.Bokeh !== undefined && root.Bokeh.Panel !== undefined) {\n",
       "    embed_document(root);\n",
       "  } else {\n",
       "    var attempts = 0;\n",
       "    var timer = setInterval(function(root) {\n",
       "      if (root.Bokeh !== undefined && root.Bokeh.Panel !== undefined) {\n",
       "        clearInterval(timer);\n",
       "        embed_document(root);\n",
       "      } else if (document.readyState == \"complete\") {\n",
       "        attempts++;\n",
       "        if (attempts > 200) {\n",
       "          clearInterval(timer);\n",
       "          console.log(\"Bokeh: ERROR: Unable to run BokehJS code because BokehJS library is missing\");\n",
       "        }\n",
       "      }\n",
       "    }, 25, root)\n",
       "  }\n",
       "})(window);</script>"
      ],
      "text/plain": [
       ":Overlay\n",
       "   .Tiles.I  :Tiles   [x,y]\n",
       "   .Points.I :Points   [Lng,Lat]"
      ]
     },
     "execution_count": 13,
     "metadata": {
      "application/vnd.holoviews_exec.v0+json": {
       "id": "1244"
      }
     },
     "output_type": "execute_result"
    }
   ],
   "source": [
    "map_plot_1 = city_data_df.hvplot.points(\"Lng\", \"Lat\", geo= True, tiles=\"OSM\")\n",
    "map_plot_1"
   ]
  },
  {
   "cell_type": "code",
   "execution_count": 14,
   "id": "42baacaa-b731-46ea-aa54-ca7b99cd944e",
   "metadata": {},
   "outputs": [
    {
     "data": {},
     "metadata": {},
     "output_type": "display_data"
    },
    {
     "data": {
      "application/vnd.holoviews_exec.v0+json": "",
      "text/html": [
       "<div id='1369'>\n",
       "  <div class=\"bk-root\" id=\"77891e46-9c5b-4b63-85af-32a5f50957ed\" data-root-id=\"1369\"></div>\n",
       "</div>\n",
       "<script type=\"application/javascript\">(function(root) {\n",
       "  function embed_document(root) {\n",
       "    var docs_json = {\"e4c25efe-ac3b-47c1-a0f2-6c68c0e3dce9\":{\"defs\":[{\"extends\":null,\"module\":null,\"name\":\"ReactiveHTML1\",\"overrides\":[],\"properties\":[]},{\"extends\":null,\"module\":null,\"name\":\"FlexBox1\",\"overrides\":[],\"properties\":[{\"default\":\"flex-start\",\"kind\":null,\"name\":\"align_content\"},{\"default\":\"flex-start\",\"kind\":null,\"name\":\"align_items\"},{\"default\":\"row\",\"kind\":null,\"name\":\"flex_direction\"},{\"default\":\"wrap\",\"kind\":null,\"name\":\"flex_wrap\"},{\"default\":\"flex-start\",\"kind\":null,\"name\":\"justify_content\"}]},{\"extends\":null,\"module\":null,\"name\":\"GridStack1\",\"overrides\":[],\"properties\":[{\"default\":\"warn\",\"kind\":null,\"name\":\"mode\"},{\"default\":null,\"kind\":null,\"name\":\"ncols\"},{\"default\":null,\"kind\":null,\"name\":\"nrows\"},{\"default\":true,\"kind\":null,\"name\":\"allow_resize\"},{\"default\":true,\"kind\":null,\"name\":\"allow_drag\"},{\"default\":[],\"kind\":null,\"name\":\"state\"}]},{\"extends\":null,\"module\":null,\"name\":\"click1\",\"overrides\":[],\"properties\":[{\"default\":\"\",\"kind\":null,\"name\":\"terminal_output\"},{\"default\":\"\",\"kind\":null,\"name\":\"debug_name\"},{\"default\":0,\"kind\":null,\"name\":\"clears\"}]},{\"extends\":null,\"module\":null,\"name\":\"NotificationAreaBase1\",\"overrides\":[],\"properties\":[{\"default\":\"bottom-right\",\"kind\":null,\"name\":\"position\"},{\"default\":0,\"kind\":null,\"name\":\"_clear\"}]},{\"extends\":null,\"module\":null,\"name\":\"NotificationArea1\",\"overrides\":[],\"properties\":[{\"default\":[],\"kind\":null,\"name\":\"notifications\"},{\"default\":\"bottom-right\",\"kind\":null,\"name\":\"position\"},{\"default\":0,\"kind\":null,\"name\":\"_clear\"},{\"default\":[{\"background\":\"#ffc107\",\"icon\":{\"className\":\"fas fa-exclamation-triangle\",\"color\":\"white\",\"tagName\":\"i\"},\"type\":\"warning\"},{\"background\":\"#007bff\",\"icon\":{\"className\":\"fas fa-info-circle\",\"color\":\"white\",\"tagName\":\"i\"},\"type\":\"info\"}],\"kind\":null,\"name\":\"types\"}]},{\"extends\":null,\"module\":null,\"name\":\"Notification\",\"overrides\":[],\"properties\":[{\"default\":null,\"kind\":null,\"name\":\"background\"},{\"default\":3000,\"kind\":null,\"name\":\"duration\"},{\"default\":null,\"kind\":null,\"name\":\"icon\"},{\"default\":\"\",\"kind\":null,\"name\":\"message\"},{\"default\":null,\"kind\":null,\"name\":\"notification_type\"},{\"default\":false,\"kind\":null,\"name\":\"_destroyed\"}]},{\"extends\":null,\"module\":null,\"name\":\"TemplateActions1\",\"overrides\":[],\"properties\":[{\"default\":0,\"kind\":null,\"name\":\"open_modal\"},{\"default\":0,\"kind\":null,\"name\":\"close_modal\"}]},{\"extends\":null,\"module\":null,\"name\":\"MaterialTemplateActions1\",\"overrides\":[],\"properties\":[{\"default\":0,\"kind\":null,\"name\":\"open_modal\"},{\"default\":0,\"kind\":null,\"name\":\"close_modal\"}]}],\"roots\":{\"references\":[{\"attributes\":{},\"id\":\"1459\",\"type\":\"UnionRenderers\"},{\"attributes\":{\"bottom_units\":\"screen\",\"coordinates\":null,\"fill_alpha\":0.5,\"fill_color\":\"lightgrey\",\"group\":null,\"left_units\":\"screen\",\"level\":\"overlay\",\"line_alpha\":1.0,\"line_color\":\"black\",\"line_dash\":[4,4],\"line_width\":2,\"right_units\":\"screen\",\"syncable\":false,\"top_units\":\"screen\"},\"id\":\"1404\",\"type\":\"BoxAnnotation\"},{\"attributes\":{\"end\":22811885.717925165,\"min_interval\":5,\"reset_end\":22811885.717925165,\"reset_start\":-22795187.794306178,\"start\":-22795187.794306178,\"tags\":[[[\"Lng\",\"Lng\",null]]]},\"id\":\"1375\",\"type\":\"Range1d\"},{\"attributes\":{},\"id\":\"1427\",\"type\":\"AllLabels\"},{\"attributes\":{},\"id\":\"1420\",\"type\":\"AllLabels\"},{\"attributes\":{\"end\":19870062.0596803,\"min_interval\":5,\"reset_end\":19870062.0596803,\"reset_start\":-12706419.020484949,\"start\":-12706419.020484949,\"tags\":[[[\"Lat\",\"Lat\",null]]]},\"id\":\"1376\",\"type\":\"Range1d\"},{\"attributes\":{\"below\":[{\"id\":\"1391\"}],\"center\":[{\"id\":\"1394\"},{\"id\":\"1398\"}],\"frame_height\":500,\"frame_width\":700,\"height\":null,\"left\":[{\"id\":\"1395\"}],\"margin\":[5,5,5,5],\"match_aspect\":true,\"min_border_bottom\":10,\"min_border_left\":10,\"min_border_right\":10,\"min_border_top\":10,\"renderers\":[{\"id\":\"1443\"},{\"id\":\"1451\"}],\"sizing_mode\":\"fixed\",\"title\":{\"id\":\"1383\"},\"toolbar\":{\"id\":\"1405\"},\"width\":null,\"x_range\":{\"id\":\"1375\"},\"x_scale\":{\"id\":\"1387\"},\"y_range\":{\"id\":\"1376\"},\"y_scale\":{\"id\":\"1389\"}},\"id\":\"1382\",\"subtype\":\"Figure\",\"type\":\"Plot\"},{\"attributes\":{\"margin\":[5,5,5,5],\"name\":\"HSpacer01868\",\"sizing_mode\":\"stretch_width\"},\"id\":\"1462\",\"type\":\"Spacer\"},{\"attributes\":{},\"id\":\"1389\",\"type\":\"LinearScale\"},{\"attributes\":{\"axis\":{\"id\":\"1391\"},\"coordinates\":null,\"grid_line_color\":null,\"group\":null,\"ticker\":null},\"id\":\"1394\",\"type\":\"Grid\"},{\"attributes\":{\"fill_alpha\":{\"value\":0.1},\"fill_color\":{\"value\":\"#30a2da\"},\"hatch_alpha\":{\"value\":0.1},\"hatch_color\":{\"value\":\"#30a2da\"},\"line_alpha\":{\"value\":0.1},\"line_color\":{\"value\":\"#30a2da\"},\"size\":{\"value\":5.477225575051661},\"x\":{\"field\":\"Lng\"},\"y\":{\"field\":\"Lat\"}},\"id\":\"1449\",\"type\":\"Scatter\"},{\"attributes\":{\"callback\":null,\"formatters\":{\"$x\":{\"id\":\"1453\"},\"$y\":{\"id\":\"1454\"}},\"renderers\":[{\"id\":\"1451\"}],\"tags\":[\"hv_created\"],\"tooltips\":[[\"Lng\",\"$x{custom}\"],[\"Lat\",\"$y{custom}\"]]},\"id\":\"1379\",\"type\":\"HoverTool\"},{\"attributes\":{\"dimension\":\"lat\"},\"id\":\"1417\",\"type\":\"MercatorTickFormatter\"},{\"attributes\":{\"source\":{\"id\":\"1445\"}},\"id\":\"1452\",\"type\":\"CDSView\"},{\"attributes\":{\"fill_alpha\":{\"value\":0.2},\"fill_color\":{\"value\":\"#30a2da\"},\"hatch_alpha\":{\"value\":0.2},\"hatch_color\":{\"value\":\"#30a2da\"},\"line_alpha\":{\"value\":0.2},\"line_color\":{\"value\":\"#30a2da\"},\"size\":{\"value\":5.477225575051661},\"x\":{\"field\":\"Lng\"},\"y\":{\"field\":\"Lat\"}},\"id\":\"1450\",\"type\":\"Scatter\"},{\"attributes\":{},\"id\":\"1446\",\"type\":\"Selection\"},{\"attributes\":{\"attribution\":\"&copy; <a href=\\\"https://www.openstreetmap.org/copyright\\\">OpenStreetMap</a> contributors\",\"url\":\"https://c.tile.openstreetmap.org/{Z}/{X}/{Y}.png\"},\"id\":\"1440\",\"type\":\"WMTSTileSource\"},{\"attributes\":{\"axis_label\":\"x\",\"coordinates\":null,\"formatter\":{\"id\":\"1415\"},\"group\":null,\"major_label_policy\":{\"id\":\"1420\"},\"ticker\":{\"id\":\"1414\"}},\"id\":\"1391\",\"type\":\"LinearAxis\"},{\"attributes\":{\"dimension\":\"lon\"},\"id\":\"1415\",\"type\":\"MercatorTickFormatter\"},{\"attributes\":{\"code\":\"\\n        var projections = Bokeh.require(\\\"core/util/projections\\\");\\n        var x = special_vars.data_x\\n        var y = special_vars.data_y\\n        if (projections.wgs84_mercator.invert == null) {\\n          var coords = projections.wgs84_mercator.inverse([x, y])\\n        } else {\\n          var coords = projections.wgs84_mercator.invert(x, y)\\n        }\\n        return \\\"\\\" + (coords[0]).toFixed(4)\\n    \"},\"id\":\"1453\",\"type\":\"CustomJSHover\"},{\"attributes\":{\"children\":[{\"id\":\"1370\"},{\"id\":\"1382\"},{\"id\":\"1462\"}],\"margin\":[0,0,0,0],\"name\":\"Row01863\",\"tags\":[\"embedded\"]},\"id\":\"1369\",\"type\":\"Row\"},{\"attributes\":{\"coordinates\":null,\"group\":null,\"level\":\"glyph\",\"tile_source\":{\"id\":\"1440\"}},\"id\":\"1443\",\"type\":\"TileRenderer\"},{\"attributes\":{},\"id\":\"1387\",\"type\":\"LinearScale\"},{\"attributes\":{\"coordinates\":null,\"data_source\":{\"id\":\"1445\"},\"glyph\":{\"id\":\"1448\"},\"group\":null,\"hover_glyph\":null,\"muted_glyph\":{\"id\":\"1450\"},\"nonselection_glyph\":{\"id\":\"1449\"},\"selection_glyph\":{\"id\":\"1455\"},\"view\":{\"id\":\"1452\"}},\"id\":\"1451\",\"type\":\"GlyphRenderer\"},{\"attributes\":{\"dimension\":\"lat\"},\"id\":\"1416\",\"type\":\"MercatorTicker\"},{\"attributes\":{\"margin\":[5,5,5,5],\"name\":\"HSpacer01867\",\"sizing_mode\":\"stretch_width\"},\"id\":\"1370\",\"type\":\"Spacer\"},{\"attributes\":{\"code\":\"\\n        var projections = Bokeh.require(\\\"core/util/projections\\\");\\n        var x = special_vars.data_x\\n        var y = special_vars.data_y\\n        if (projections.wgs84_mercator.invert == null) {\\n          var coords = projections.wgs84_mercator.inverse([x, y])\\n        } else {\\n          var coords = projections.wgs84_mercator.invert(x, y)\\n        }\\n        return \\\"\\\" + (coords[1]).toFixed(4)\\n    \"},\"id\":\"1454\",\"type\":\"CustomJSHover\"},{\"attributes\":{\"coordinates\":null,\"group\":null,\"text_color\":\"black\",\"text_font_size\":\"12pt\"},\"id\":\"1383\",\"type\":\"Title\"},{\"attributes\":{\"dimension\":\"lon\"},\"id\":\"1414\",\"type\":\"MercatorTicker\"},{\"attributes\":{},\"id\":\"1400\",\"type\":\"PanTool\"},{\"attributes\":{\"fill_color\":{\"value\":\"#30a2da\"},\"hatch_color\":{\"value\":\"#30a2da\"},\"line_color\":{\"value\":\"#30a2da\"},\"size\":{\"value\":5.477225575051661},\"x\":{\"field\":\"Lng\"},\"y\":{\"field\":\"Lat\"}},\"id\":\"1448\",\"type\":\"Scatter\"},{\"attributes\":{\"axis_label\":\"y\",\"coordinates\":null,\"formatter\":{\"id\":\"1417\"},\"group\":null,\"major_label_policy\":{\"id\":\"1427\"},\"ticker\":{\"id\":\"1416\"}},\"id\":\"1395\",\"type\":\"LinearAxis\"},{\"attributes\":{\"angle\":{\"value\":0.0},\"fill_alpha\":{\"value\":1.0},\"fill_color\":{\"value\":\"#30a2da\"},\"hatch_alpha\":{\"value\":1.0},\"hatch_color\":{\"value\":\"#30a2da\"},\"hatch_scale\":{\"value\":12.0},\"hatch_weight\":{\"value\":1.0},\"line_alpha\":{\"value\":1.0},\"line_cap\":{\"value\":\"butt\"},\"line_color\":{\"value\":\"#30a2da\"},\"line_dash\":{\"value\":[]},\"line_dash_offset\":{\"value\":0},\"line_join\":{\"value\":\"bevel\"},\"line_width\":{\"value\":1},\"marker\":{\"value\":\"circle\"},\"size\":{\"value\":5.477225575051661},\"x\":{\"field\":\"Lng\"},\"y\":{\"field\":\"Lat\"}},\"id\":\"1455\",\"type\":\"Scatter\"},{\"attributes\":{\"axis\":{\"id\":\"1395\"},\"coordinates\":null,\"dimension\":1,\"grid_line_color\":null,\"group\":null,\"ticker\":null},\"id\":\"1398\",\"type\":\"Grid\"},{\"attributes\":{\"data\":{\"Lat\":{\"__ndarray__\":\"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\",\"dtype\":\"float64\",\"order\":\"little\",\"shape\":[567]},\"Lng\":{\"__ndarray__\":\"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\",\"dtype\":\"float64\",\"order\":\"little\",\"shape\":[567]}},\"selected\":{\"id\":\"1446\"},\"selection_policy\":{\"id\":\"1459\"}},\"id\":\"1445\",\"type\":\"ColumnDataSource\"},{\"attributes\":{\"zoom_on_axis\":false},\"id\":\"1401\",\"type\":\"WheelZoomTool\"},{\"attributes\":{\"tools\":[{\"id\":\"1379\"},{\"id\":\"1399\"},{\"id\":\"1400\"},{\"id\":\"1401\"},{\"id\":\"1402\"},{\"id\":\"1403\"}]},\"id\":\"1405\",\"type\":\"Toolbar\"},{\"attributes\":{},\"id\":\"1399\",\"type\":\"SaveTool\"},{\"attributes\":{\"match_aspect\":true,\"overlay\":{\"id\":\"1404\"}},\"id\":\"1402\",\"type\":\"BoxZoomTool\"},{\"attributes\":{},\"id\":\"1403\",\"type\":\"ResetTool\"}],\"root_ids\":[\"1369\"]},\"title\":\"Bokeh Application\",\"version\":\"2.4.3\"}};\n",
       "    var render_items = [{\"docid\":\"e4c25efe-ac3b-47c1-a0f2-6c68c0e3dce9\",\"root_ids\":[\"1369\"],\"roots\":{\"1369\":\"77891e46-9c5b-4b63-85af-32a5f50957ed\"}}];\n",
       "    root.Bokeh.embed.embed_items_notebook(docs_json, render_items);\n",
       "    for (const render_item of render_items) {\n",
       "      for (const root_id of render_item.root_ids) {\n",
       "\tconst id_el = document.getElementById(root_id)\n",
       "\tif (id_el.children.length && (id_el.children[0].className === 'bk-root')) {\n",
       "\t  const root_el = id_el.children[0]\n",
       "\t  root_el.id = root_el.id + '-rendered'\n",
       "\t}\n",
       "      }\n",
       "    }\n",
       "  }\n",
       "  if (root.Bokeh !== undefined && root.Bokeh.Panel !== undefined) {\n",
       "    embed_document(root);\n",
       "  } else {\n",
       "    var attempts = 0;\n",
       "    var timer = setInterval(function(root) {\n",
       "      if (root.Bokeh !== undefined && root.Bokeh.Panel !== undefined) {\n",
       "        clearInterval(timer);\n",
       "        embed_document(root);\n",
       "      } else if (document.readyState == \"complete\") {\n",
       "        attempts++;\n",
       "        if (attempts > 200) {\n",
       "          clearInterval(timer);\n",
       "          console.log(\"Bokeh: ERROR: Unable to run BokehJS code because BokehJS library is missing\");\n",
       "        }\n",
       "      }\n",
       "    }, 25, root)\n",
       "  }\n",
       "})(window);</script>"
      ],
      "text/plain": [
       ":Overlay\n",
       "   .Tiles.I  :Tiles   [x,y]\n",
       "   .Points.I :Points   [Lng,Lat]"
      ]
     },
     "execution_count": 14,
     "metadata": {
      "application/vnd.holoviews_exec.v0+json": {
       "id": "1369"
      }
     },
     "output_type": "execute_result"
    }
   ],
   "source": [
    "map_plot_2 = city_data_df.hvplot.points(\"Lng\", \"Lat\", geo=True,\n",
    "                                        tiles= \"OSM\", frame_width=700, frame_height=500)\n",
    "map_plot_2"
   ]
  },
  {
   "cell_type": "code",
   "execution_count": null,
   "id": "b216125b-1937-4467-ae31-9fc020026d62",
   "metadata": {},
   "outputs": [],
   "source": []
  }
 ],
 "metadata": {
  "kernelspec": {
   "display_name": "PythonData",
   "language": "python",
   "name": "pythondata"
  },
  "language_info": {
   "codemirror_mode": {
    "name": "ipython",
    "version": 3
   },
   "file_extension": ".py",
   "mimetype": "text/x-python",
   "name": "python",
   "nbconvert_exporter": "python",
   "pygments_lexer": "ipython3",
   "version": "3.9.13"
  }
 },
 "nbformat": 4,
 "nbformat_minor": 5
}
